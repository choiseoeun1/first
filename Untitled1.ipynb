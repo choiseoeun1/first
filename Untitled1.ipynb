{
  "nbformat": 4,
  "nbformat_minor": 0,
  "metadata": {
    "colab": {
      "provenance": [],
      "authorship_tag": "ABX9TyOyiHtuzKMVwn9tf8VZUUyg",
      "include_colab_link": true
    },
    "kernelspec": {
      "name": "python3",
      "display_name": "Python 3"
    },
    "language_info": {
      "name": "python"
    }
  },
  "cells": [
    {
      "cell_type": "markdown",
      "metadata": {
        "id": "view-in-github",
        "colab_type": "text"
      },
      "source": [
        "<a href=\"https://colab.research.google.com/github/choiseoeun1/first/blob/main/Untitled1.ipynb\" target=\"_parent\"><img src=\"https://colab.research.google.com/assets/colab-badge.svg\" alt=\"Open In Colab\"/></a>"
      ]
    },
    {
      "cell_type": "code",
      "execution_count": 4,
      "metadata": {
        "colab": {
          "base_uri": "https://localhost:8080/"
        },
        "id": "GExe9IKd7-1w",
        "outputId": "06be93bd-567e-4202-b11b-f2b2af66880a"
      },
      "outputs": [
        {
          "output_type": "stream",
          "name": "stdout",
          "text": [
            "아바타\n"
          ]
        }
      ],
      "source": [
        "movie_list = [\"아바타\", \"타이타닉\", \"스타워즈\", \"주라기 월드\", \"어벤저스\"]\n",
        "print(movie_list[0])\n",
        "#print(movie_list[1])\n",
        "#print(movie_list[2])\n",
        "#print(movie_list[3])\n",
        "#print(movie_list[4])"
      ]
    }
  ]
}