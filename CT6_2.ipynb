{
  "nbformat": 4,
  "nbformat_minor": 0,
  "metadata": {
    "colab": {
      "provenance": [],
      "authorship_tag": "ABX9TyMedBNf2fVCmIi0epihh5qk",
      "include_colab_link": true
    },
    "kernelspec": {
      "name": "python3",
      "display_name": "Python 3"
    },
    "language_info": {
      "name": "python"
    }
  },
  "cells": [
    {
      "cell_type": "markdown",
      "metadata": {
        "id": "view-in-github",
        "colab_type": "text"
      },
      "source": [
        "<a href=\"https://colab.research.google.com/github/choiseoeun1/first/blob/main/CT6_2.ipynb\" target=\"_parent\"><img src=\"https://colab.research.google.com/assets/colab-badge.svg\" alt=\"Open In Colab\"/></a>"
      ]
    },
    {
      "cell_type": "code",
      "execution_count": null,
      "metadata": {
        "id": "JHajFzrcXFTE"
      },
      "outputs": [],
      "source": []
    },
    {
      "cell_type": "markdown",
      "source": [
        "학생 10명의 성적을 입력받아 평균을 계산하는 알고리즘을 의사코트로 표현해보자\n"
      ],
      "metadata": {
        "id": "tUSG8muwXYba"
      }
    },
    {
      "cell_type": "code",
      "source": [],
      "metadata": {
        "id": "XTNj2CV2YynZ"
      },
      "execution_count": null,
      "outputs": []
    },
    {
      "cell_type": "markdown",
      "source": [
        "학생 10명의 성적을 입력받아 평균을 계산하는 알로리즘을 의사코트로 표현해보자\n",
        "total <- 0\n",
        "counter <- 1\n",
        "while counter <= 10\n",
        "      input grade\n",
        "      totak <- grade + total\n",
        "      counter <- counter + 1\n",
        "average <- thtal / 10\n",
        "print average\n",
        "    "
      ],
      "metadata": {
        "id": "vpnF-uAeZCwq"
      }
    },
    {
      "cell_type": "code",
      "source": [
        "total = 0                                     #total값 0으로 시작\n",
        "counter = 1                                   #counter 초기 값 1로 시작\n",
        "while counter <= 10:                          # counter가 10보다 크거나 같을 때  \n",
        "      grade =int(input(\"정수를 입력하시오\"))  # 사용자에게 grade을 정수형을 받아라\n",
        "      total =  grade + total                  # toal 변수에 grade, toal의 합을 저장하라\n",
        "      counter = counter+1                     # 반복횟수 저장80       \n",
        "average = total / 10                          # AVERAGE 변수에 TOTAL을 10을 나눈 평균값을 지정하라\n",
        "print (average)                               # 합과 변수 total, 평균과 변수 average값을 하면에 출력해라"
      ],
      "metadata": {
        "colab": {
          "base_uri": "https://localhost:8080/"
        },
        "id": "-W2e7N1zZ5Zf",
        "outputId": "a6f5de74-a1f1-4db7-a4a5-1fece9fd984c"
      },
      "execution_count": 7,
      "outputs": [
        {
          "output_type": "stream",
          "name": "stdout",
          "text": [
            "정수를 입력하시오10\n",
            "정수를 입력하시오20\n",
            "정수를 입력하시오30\n",
            "정수를 입력하시오40\n",
            "정수를 입력하시오50\n",
            "정수를 입력하시오60\n",
            "정수를 입력하시오70\n",
            "정수를 입력하시오80\n",
            "정수를 입력하시오90\n",
            "정수를 입력하시오100\n",
            "55.0\n"
          ]
        }
      ]
    }
  ]
}